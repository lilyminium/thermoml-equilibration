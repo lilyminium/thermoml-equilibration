{
 "cells": [
  {
   "cell_type": "code",
   "execution_count": 1,
   "id": "3ee9488d-2706-41e9-8cc2-b226daee28c4",
   "metadata": {},
   "outputs": [],
   "source": [
    "import pandas as pd"
   ]
  },
  {
   "cell_type": "code",
   "execution_count": 3,
   "id": "3465e22b-abd4-41c0-84f0-56ceccac4716",
   "metadata": {},
   "outputs": [
    {
     "data": {
      "text/plain": [
       "Index(['Unnamed: 0', 'Id', 'Temperature (K)', 'Pressure (kPa)', 'Phase',\n",
       "       'N Components', 'Component 1', 'Role 1', 'Mole Fraction 1',\n",
       "       'Exact Amount 1', 'Density Value (g / ml)',\n",
       "       'Density Uncertainty (g / ml)', 'Source', 'Component 2', 'Role 2',\n",
       "       'Mole Fraction 2', 'Exact Amount 2', 'Component 3', 'Role 3',\n",
       "       'Mole Fraction 3', 'Exact Amount 3',\n",
       "       'ExcessMolarVolume Value (cm ** 3 / mol)',\n",
       "       'ExcessMolarVolume Uncertainty (cm ** 3 / mol)',\n",
       "       'EnthalpyOfMixing Value (kJ / mol)',\n",
       "       'EnthalpyOfMixing Uncertainty (kJ / mol)',\n",
       "       'EnthalpyOfVaporization Value (kJ / mol)',\n",
       "       'EnthalpyOfVaporization Uncertainty (kJ / mol)',\n",
       "       'DielectricConstant Value ()', 'DielectricConstant Uncertainty ()'],\n",
       "      dtype='object')"
      ]
     },
     "execution_count": 3,
     "metadata": {},
     "output_type": "execute_result"
    }
   ],
   "source": [
    "initial = pd.read_csv(\"input/thermoml.csv\")\n",
    "initial.columns"
   ]
  },
  {
   "cell_type": "code",
   "execution_count": 10,
   "id": "c325de5d-ad68-4e45-8923-b6461684555c",
   "metadata": {},
   "outputs": [],
   "source": [
    "cols = ['Density Value (g / ml)', 'EnthalpyOfMixing Value (kJ / mol)']\n",
    "\n",
    "def print_df(df):\n",
    "    total = 0\n",
    "    for col in cols:\n",
    "        subset = df[~df[col].isna()]\n",
    "        print(f\"{col}: {len(subset)}\")\n",
    "        total += len(subset)\n",
    "    print(f\"Total: {total}\")"
   ]
  },
  {
   "cell_type": "code",
   "execution_count": 11,
   "id": "9ade05c5-2791-4f43-a579-6dc84b5b1edd",
   "metadata": {},
   "outputs": [
    {
     "name": "stdout",
     "output_type": "stream",
     "text": [
      "Density Value (g / ml): 408711\n",
      "EnthalpyOfMixing Value (kJ / mol): 27939\n",
      "Total: 436650\n"
     ]
    }
   ],
   "source": [
    "print_df(initial)"
   ]
  },
  {
   "cell_type": "code",
   "execution_count": 12,
   "id": "171af236-9324-4973-b7ef-e918f9320359",
   "metadata": {},
   "outputs": [
    {
     "name": "stdout",
     "output_type": "stream",
     "text": [
      "Density Value (g / ml): 1313\n",
      "EnthalpyOfMixing Value (kJ / mol): 1142\n",
      "Total: 2455\n"
     ]
    }
   ],
   "source": [
    "continued = pd.read_csv(\"intermediate/continued-filtered-thermoml.csv\")\n",
    "print_df(continued)"
   ]
  },
  {
   "cell_type": "code",
   "execution_count": 13,
   "id": "827df102-b15e-4c0b-aa17-b6b9a03e682c",
   "metadata": {},
   "outputs": [
    {
     "name": "stdout",
     "output_type": "stream",
     "text": [
      "Density Value (g / ml): 1303\n",
      "EnthalpyOfMixing Value (kJ / mol): 1133\n",
      "Total: 2436\n"
     ]
    }
   ],
   "source": [
    "continued2 = pd.read_csv(\"intermediate/continued-filtered-without-high-viscosities.csv\")\n",
    "print_df(continued2)"
   ]
  },
  {
   "cell_type": "code",
   "execution_count": 15,
   "id": "0d81ebe0-5812-4dac-a7cf-8f0d3205b664",
   "metadata": {},
   "outputs": [
    {
     "name": "stdout",
     "output_type": "stream",
     "text": [
      "Density Value (g / ml): 742\n",
      "EnthalpyOfMixing Value (kJ / mol): 610\n",
      "Total: 1352\n"
     ]
    }
   ],
   "source": [
    "print_df(pd.read_csv(\"../04_filter-final/output/training-set.csv\"))"
   ]
  },
  {
   "cell_type": "code",
   "execution_count": 16,
   "id": "32fbc4e6-58fc-4856-b0f4-f07a33b262d6",
   "metadata": {},
   "outputs": [
    {
     "name": "stdout",
     "output_type": "stream",
     "text": [
      "Density Value (g / ml): 409\n",
      "EnthalpyOfMixing Value (kJ / mol): 379\n",
      "Total: 788\n"
     ]
    }
   ],
   "source": [
    "print_df(pd.read_csv(\"../04_filter-final/output/validation-set.csv\"))"
   ]
  },
  {
   "cell_type": "code",
   "execution_count": 17,
   "id": "6fc03800-6b55-48b2-a9d3-eb78e3f04300",
   "metadata": {},
   "outputs": [
    {
     "name": "stdout",
     "output_type": "stream",
     "text": [
      "Density Value (g / ml): 555\n",
      "EnthalpyOfMixing Value (kJ / mol): 477\n",
      "Total: 1032\n"
     ]
    }
   ],
   "source": [
    "print_df(\n",
    "    pd.read_csv(\"/Users/lily/pydev/openff-sage/data-set-curation/physical-property/optimizations/data-sets/sage-train-v1.csv\")\n",
    ")"
   ]
  },
  {
   "cell_type": "code",
   "execution_count": null,
   "id": "a10ca34b-3e59-43ae-a5f9-3ca2b182399e",
   "metadata": {},
   "outputs": [],
   "source": []
  }
 ],
 "metadata": {
  "kernelspec": {
   "display_name": "Python (openff-nagl-test)",
   "language": "python",
   "name": "openff-nagl-test"
  },
  "language_info": {
   "codemirror_mode": {
    "name": "ipython",
    "version": 3
   },
   "file_extension": ".py",
   "mimetype": "text/x-python",
   "name": "python",
   "nbconvert_exporter": "python",
   "pygments_lexer": "ipython3",
   "version": "3.10.14"
  }
 },
 "nbformat": 4,
 "nbformat_minor": 5
}
