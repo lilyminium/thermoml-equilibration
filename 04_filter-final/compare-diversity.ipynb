{
 "cells": [
  {
   "cell_type": "code",
   "execution_count": 10,
   "id": "5bbf9d5e-8034-4486-a41e-2de135122111",
   "metadata": {},
   "outputs": [],
   "source": [
    "import json"
   ]
  },
  {
   "cell_type": "code",
   "execution_count": 11,
   "id": "262e2ca6-4c33-47e0-a73e-75be46176a82",
   "metadata": {},
   "outputs": [],
   "source": [
    "with open(\"../01_curate-data/chemical-groups/mixture-counts.json\", \"r\") as f:\n",
    "    original = json.load(f)"
   ]
  },
  {
   "cell_type": "code",
   "execution_count": 12,
   "id": "545a6790-d65b-4139-aca2-c8f597a7d1b9",
   "metadata": {},
   "outputs": [
    {
     "data": {
      "text/plain": [
       "254"
      ]
     },
     "execution_count": 12,
     "metadata": {},
     "output_type": "execute_result"
    }
   ],
   "source": [
    "len(original)"
   ]
  },
  {
   "cell_type": "code",
   "execution_count": 13,
   "id": "17347775-0eed-4c6e-a3c9-bb0b3494654e",
   "metadata": {},
   "outputs": [],
   "source": [
    "with open(\"chemical-groups/mixture-counts.json\", \"r\") as f:\n",
    "    current = json.load(f)"
   ]
  },
  {
   "cell_type": "code",
   "execution_count": 14,
   "id": "5950f667-237b-4bd0-b3f8-af279bf92ea3",
   "metadata": {},
   "outputs": [
    {
     "data": {
      "text/plain": [
       "206"
      ]
     },
     "execution_count": 14,
     "metadata": {},
     "output_type": "execute_result"
    }
   ],
   "source": [
    "len(current)"
   ]
  },
  {
   "cell_type": "code",
   "execution_count": 15,
   "id": "be6174e9-4797-498c-ad45-a9605100530a",
   "metadata": {},
   "outputs": [],
   "source": [
    "# find groups skipped out\n",
    "original_groups = set([tuple(x[\"groups\"]) for x in original])\n",
    "current_groups = set([tuple(x[\"groups\"]) for x in current])"
   ]
  },
  {
   "cell_type": "code",
   "execution_count": 16,
   "id": "e8ac4292-b441-486c-bec0-034608b5fd2d",
   "metadata": {},
   "outputs": [
    {
     "data": {
      "text/plain": [
       "{('1,2 Aminoalcohol', 'Aqueous'),\n",
       " ('Alcohol', 'Alkyl Fluoride'),\n",
       " ('Alcohol', 'Carbonic Acid Derivative'),\n",
       " ('Alcohol', 'Carbonic Acid Diester'),\n",
       " ('Alcohol', 'Halogen Derivative'),\n",
       " ('Alcohol', 'Orthocarboxylic Acid Derivative'),\n",
       " ('Alcohol', 'Phosphoric Acid Derivative'),\n",
       " ('Alcohol', 'Phosphoric Acid Ester'),\n",
       " ('Alcohol', 'Sulfoxide'),\n",
       " ('Alkane', 'Alkyl Fluoride'),\n",
       " ('Alkane', 'Halogen Derivative'),\n",
       " ('Alkyl Fluoride', 'Dialkylether'),\n",
       " ('Alkyl Fluoride', 'Ether'),\n",
       " ('Alkyl Fluoride', 'Hydroxy'),\n",
       " ('Alkyl Fluoride', 'Primary Alcohol'),\n",
       " ('Aqueous', 'Halogen Derivative'),\n",
       " ('Aqueous', 'Primary Aliphatic Amine'),\n",
       " ('Aqueous', 'Primary Amine'),\n",
       " ('Aromatic', 'Carbonic Acid Derivative'),\n",
       " ('Aromatic', 'Carbonic Acid Diester'),\n",
       " ('Aromatic', 'Sulfoxide'),\n",
       " ('Aromatic', 'Tertiary Aliphatic Amine'),\n",
       " ('Aromatic', 'Tertiary Amine'),\n",
       " ('Carbonic Acid Derivative', 'Hydroxy'),\n",
       " ('Carbonic Acid Derivative', 'Primary Alcohol'),\n",
       " ('Carbonic Acid Diester', 'Hydroxy'),\n",
       " ('Carbonic Acid Diester', 'Primary Alcohol'),\n",
       " ('Carbonyl', 'Sulfoxide'),\n",
       " ('Carboxylic Acid', 'Carboxylic Acid Anhydride'),\n",
       " ('Carboxylic Acid Anhydride', 'Carboxylic Acid Derivative'),\n",
       " ('Dialkylether', 'Orthocarboxylic Acid Derivative'),\n",
       " ('Dialkylether', 'Sulfoxide'),\n",
       " ('Ether', 'Orthocarboxylic Acid Derivative'),\n",
       " ('Ether', 'Sulfoxide'),\n",
       " ('Halogen Derivative', 'Hydroxy'),\n",
       " ('Halogen Derivative', 'Primary Alcohol'),\n",
       " ('Heterocycle', 'Sulfoxide'),\n",
       " ('Heterocycle', 'Tertiary Aliphatic Amine'),\n",
       " ('Heterocycle', 'Tertiary Amine'),\n",
       " ('Hydroxy', 'Orthocarboxylic Acid Derivative'),\n",
       " ('Hydroxy', 'Phosphoric Acid Derivative'),\n",
       " ('Hydroxy', 'Phosphoric Acid Ester'),\n",
       " ('Hydroxy', 'Sulfoxide'),\n",
       " ('Ketone', 'Sulfoxide'),\n",
       " ('Orthocarboxylic Acid Derivative', 'Primary Alcohol'),\n",
       " ('Phosphoric Acid Derivative', 'Primary Alcohol'),\n",
       " ('Phosphoric Acid Ester', 'Primary Alcohol'),\n",
       " ('Primary Alcohol', 'Sulfoxide')}"
      ]
     },
     "execution_count": 16,
     "metadata": {},
     "output_type": "execute_result"
    }
   ],
   "source": [
    "original_groups - current_groups"
   ]
  },
  {
   "cell_type": "code",
   "execution_count": null,
   "id": "39060f22-8427-415b-8f11-6e04e059e2dc",
   "metadata": {},
   "outputs": [],
   "source": []
  }
 ],
 "metadata": {
  "kernelspec": {
   "display_name": "Python (openff-nagl-test)",
   "language": "python",
   "name": "openff-nagl-test"
  },
  "language_info": {
   "codemirror_mode": {
    "name": "ipython",
    "version": 3
   },
   "file_extension": ".py",
   "mimetype": "text/x-python",
   "name": "python",
   "nbconvert_exporter": "python",
   "pygments_lexer": "ipython3",
   "version": "3.10.14"
  }
 },
 "nbformat": 4,
 "nbformat_minor": 5
}
